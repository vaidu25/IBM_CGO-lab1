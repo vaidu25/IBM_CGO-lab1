{
  "cells": [
    {
      "cell_type": "markdown",
      "metadata": {
        "id": "view-in-github",
        "colab_type": "text"
      },
      "source": [
        "<a href=\"https://colab.research.google.com/github/vaidu25/IBM_CGO-lab1/blob/main/sd_learn_cgo_lab1.ipynb\" target=\"_parent\"><img src=\"https://colab.research.google.com/assets/colab-badge.svg\" alt=\"Open In Colab\"/></a>"
      ]
    },
    {
      "cell_type": "code",
      "execution_count": null,
      "metadata": {
        "id": "urkECkXbAgo6"
      },
      "outputs": [],
      "source": [
        "!pip install git+https://github.com/ibm-granite-community/utils \\\n",
        "    \"langchain_community<0.3.0\" \\\n",
        "    replicate"
      ]
    },
    {
      "cell_type": "code",
      "execution_count": null,
      "metadata": {
        "id": "3r0HxqRQNo6A",
        "outputId": "f1113cdd-e45b-4f18-f0c2-7230a660d981",
        "colab": {
          "base_uri": "https://localhost:8080/"
        }
      },
      "outputs": [
        {
          "metadata": {
            "tags": null
          },
          "name": "stdout",
          "output_type": "stream",
          "text": [
            "REPLICATE_API_TOKEN not found in Google Colab secrets.\n"
          ]
        }
      ],
      "source": [
        "from ibm_granite_community.notebook_utils import get_env_var\n",
        "from langchain_community.llms import Replicate\n",
        "\n",
        "model = Replicate(\n",
        "    model=\"ibm-granite/granite-3.3-8b-instruct\",\n",
        "    replicate_api_token=get_env_var('REPLICATE_API_TOKEN'),\n",
        "    model_kwargs={\"max_tokens\":1024, \"temperature\":0.2},\n",
        ")"
      ]
    },
    {
      "cell_type": "code",
      "execution_count": null,
      "metadata": {
        "id": "3URKgq3vOME_"
      },
      "outputs": [],
      "source": [
        "def zeroshot_prompt(context, question, book_titles):\n",
        "    \"\"\"\n",
        "    Creates a zero-shot prompt for the model, where the model acts as a seasoned programmer.\n",
        "\n",
        "    Parameters:\n",
        "    - context: str, contextual information for the prompt\n",
        "    - question: str, specific question or task for the model to perform\n",
        "    - book_titles: list, list of book titles to include in the prompt\n",
        "    Returns:\n",
        "    - str, the formatted prompt\n",
        "    \"\"\"\n",
        "\n",
        "    titles = \", \".join(book_titles)\n",
        "    prompt = f\"\"\"\n",
        "    You are an experienced programmer with 15 years of experience writing full-stack applications.\n",
        "    Your task is to generate code for an application using the context provided in the task: {context}.\n",
        "    Begin by creating components based on the user question: {question}.\n",
        "    Include a description of elements provided in {titles}.\n",
        "    Ensure that you generate only Python code for a Jupyter Notebook using ipywidgets UI components.\n",
        "    Do not output anything but the code. The output code should not exceed 300 tokens.\n",
        "    \"\"\"\n",
        "    return prompt\n"
      ]
    },
    {
      "cell_type": "code",
      "execution_count": null,
      "metadata": {
        "id": "f-o9FFvbOQQJ"
      },
      "outputs": [],
      "source": [
        "def get_answer_using_zeroshot(context, question, book_titles):\n",
        "    \"\"\"\n",
        "    Generates the response from the model based on a zero-shot prompt.\n",
        "\n",
        "    Parameters:\n",
        "    - context: str, contextual information for the prompt\n",
        "    - question: str, specific question for the model to answer\n",
        "    - book_titles: list, list of book titles to include in the prompt\n",
        "\n",
        "    Returns:\n",
        "    - str, the generated result from the model\n",
        "    \"\"\"\n",
        "    prompt = zeroshot_prompt(context, question, book_titles)\n",
        "    result = model.invoke(prompt)\n",
        "\n",
        "    return result"
      ]
    },
    {
      "cell_type": "code",
      "execution_count": null,
      "metadata": {
        "id": "9ScSaBu9OXRI"
      },
      "outputs": [],
      "source": [
        "context = \"Design and develop an online bookstore UI components with minimalistic theme.\"\n",
        "question = \"Create the landing page for users visiting my bookstore. The landing page should display a header `Reader's Online Store`, a welcome message `Welcome to Reader's Verse` along with a catalog of books titles as title. Vertically align the sections.\"\n",
        "book_titles = [\"The Great Gatsby\", \"Pride and Prejudice\", \"The Hobbit\", \"The Lord of the Rings\", \"Animal Farm\", \"Brave New World\"]\n",
        "\n",
        "# Generate and display the UI code for the landing page\n",
        "result = get_answer_using_zeroshot(context, question, book_titles)\n",
        "print(f\"Generated Code:\\n{result}\")"
      ]
    },
    {
      "cell_type": "code",
      "execution_count": null,
      "metadata": {
        "id": "_rq2u2djTsdK"
      },
      "outputs": [],
      "source": [
        "import ipywidgets as widgets\n",
        "# Define the header\n",
        "header = widgets.HTML(\"Reader's Online Store\")\n",
        "# Define the welcome message\n",
        "welcome_message = widgets.HTML(\"Welcome to Reader's Verse\")\n",
        "# Define the book catalog\n",
        "book_catalog = widgets.HTML(\"Catalog of Books:\")\n",
        "# Define the book titles and descriptions\n",
        "book_titles = [\"The Great Gatsby\", \"Pride and Prejudice\", \"The Hobbit\", \"The Lord of the Rings\", \"Animal Farm\", \"Brave New World\"]\n",
        "book_descriptions = [\"F. Scott Fitzgerald's classic novel set in the Roaring Twenties, following the decadent lifestyle of Jay Gatsby and his wife Daisy Buchanan.\",\n",
        " \"The story follows the romantic exploits of the Bennet sisters, Mary and Elizabeth, as they navigate the social norms of the Regency era in England.\",\n",
        " \"The Hobbit is a fantasy novel by J. R. R. Tolkien. It was published in 1937 and is the first book of The Lord of the Rings.\",\n",
        " \"The Lord of the Rings is an epic high-fantasy novel written by J. R. R. Tolkien.\",\n",
        " \"Animal Farm is a novella by George Orwell. It was published in 1945 and is a political satire of the Soviet Union.\",\n",
        " \"Brave New World is a 1932 novel by Aldous Huxley, published by Secker & Warburg as The Doors of Perception, and is regarded by many critics as one of the greatest novels of the 20th century.\"]\n",
        "# Create a list of book descriptions\n",
        "book_desc_list = []\n",
        "for i in range(len(book_titles)):\n",
        " book_desc_list.append(widgets.HTML(f\"{book_titles[i]}: {book_descriptions[i]}\"))\n",
        "# Create a vertical box layout for the landing page\n",
        "landing_page = widgets.VBox([header, welcome_message, book_catalog] + book_desc_list)\n",
        "# Display the landing page\n",
        "landing_page"
      ]
    }
  ],
  "metadata": {
    "colab": {
      "provenance": [],
      "include_colab_link": true
    },
    "kernelspec": {
      "display_name": ".venv",
      "language": "python",
      "name": "python3"
    },
    "language_info": {
      "codemirror_mode": {
        "name": "ipython",
        "version": 3
      },
      "file_extension": ".py",
      "mimetype": "text/x-python",
      "name": "python",
      "nbconvert_exporter": "python",
      "pygments_lexer": "ipython3",
      "version": "3.10.11"
    }
  },
  "nbformat": 4,
  "nbformat_minor": 0
}